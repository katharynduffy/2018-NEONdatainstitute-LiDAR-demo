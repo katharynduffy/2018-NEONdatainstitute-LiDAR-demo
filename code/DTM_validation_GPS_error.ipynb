{
 "cells": [
  {
   "cell_type": "code",
   "execution_count": 1,
   "metadata": {},
   "outputs": [],
   "source": [
    "import gdal\n",
    "import h5py\n",
    "import numpy as np\n",
    "from math import floor\n",
    "import os\n",
    "import matplotlib.pyplot as plt\n",
    "import IPython"
   ]
  },
  {
   "cell_type": "markdown",
   "metadata": {},
   "source": [
    "read in data"
   ]
  },
  {
   "cell_type": "code",
   "execution_count": 2,
   "metadata": {},
   "outputs": [],
   "source": [
    "dtm_filepath='/Users/kdw223/Desktop/NEON_day3/data/extra_uncert/SERC_DTM.tif'\n",
    "gps_val_filepath='/Users/kdw223/Desktop/NEON_day3/data/extra_uncert/SERC_GPS_validation.csv'"
   ]
  },
  {
   "cell_type": "markdown",
   "metadata": {},
   "source": [
    "Load in functions to process data"
   ]
  },
  {
   "cell_type": "code",
   "execution_count": 3,
   "metadata": {},
   "outputs": [],
   "source": [
    "def raster2array(geotif_file):\n",
    "    metadata = {}\n",
    "    dataset = gdal.Open(geotif_file)\n",
    "    metadata['array_rows'] = dataset.RasterYSize\n",
    "    metadata['array_cols'] = dataset.RasterXSize\n",
    "    metadata['bands'] = dataset.RasterCount\n",
    "    metadata['driver'] = dataset.GetDriver().LongName\n",
    "    metadata['projection'] = dataset.GetProjection()\n",
    "    metadata['geotransform'] = dataset.GetGeoTransform()\n",
    "\n",
    "    mapinfo = dataset.GetGeoTransform()\n",
    "    metadata['pixelWidth'] = mapinfo[1]\n",
    "    metadata['pixelHeight'] = mapinfo[5]\n",
    "\n",
    "    metadata['ext_dict'] = {}\n",
    "    metadata['ext_dict']['xMin'] = mapinfo[0]\n",
    "    metadata['ext_dict']['xMax'] = mapinfo[0] + dataset.RasterXSize/mapinfo[1]\n",
    "    metadata['ext_dict']['yMin'] = mapinfo[3] + dataset.RasterYSize/mapinfo[5]\n",
    "    metadata['ext_dict']['yMax'] = mapinfo[3]\n",
    "\n",
    "    metadata['extent'] = (metadata['ext_dict']['xMin'],metadata['ext_dict']['xMax'],\n",
    "                          metadata['ext_dict']['yMin'],metadata['ext_dict']['yMax'])\n",
    "\n",
    "    if metadata['bands'] == 1:\n",
    "        raster = dataset.GetRasterBand(1)\n",
    "        metadata['noDataValue'] = raster.GetNoDataValue()\n",
    "        metadata['scaleFactor'] = raster.GetScale()\n",
    "\n",
    "        # band statistics\n",
    "        metadata['bandstats'] = {} #make a nested dictionary to store band stats in same \n",
    "        stats = raster.GetStatistics(True,True)\n",
    "        metadata['bandstats']['min'] = round(stats[0],2)\n",
    "        metadata['bandstats']['max'] = round(stats[1],2)\n",
    "        metadata['bandstats']['mean'] = round(stats[2],2)\n",
    "        metadata['bandstats']['stdev'] = round(stats[3],2)\n",
    "\n",
    "        array = dataset.GetRasterBand(1).ReadAsArray(0,0,metadata['array_cols'],metadata['array_rows']).astype(np.float)\n",
    "        array[array==int(metadata['noDataValue'])]=np.nan\n",
    "        array = array/metadata['scaleFactor']\n",
    "        return array, metadata\n",
    "\n",
    "    elif metadata['bands'] > 1:\n",
    "        print('More than one band ... need to modify function for case of multiple bands')"
   ]
  },
  {
   "cell_type": "code",
   "execution_count": 4,
   "metadata": {},
   "outputs": [],
   "source": [
    "dtm_array, dtm_array_metadata = raster2array(dtm_filepath)"
   ]
  },
  {
   "cell_type": "code",
   "execution_count": 5,
   "metadata": {},
   "outputs": [],
   "source": [
    "val_data=np.genfromtxt(gps_val_filepath, delimiter=\",\")"
   ]
  },
  {
   "cell_type": "code",
   "execution_count": 6,
   "metadata": {},
   "outputs": [],
   "source": [
    "elev_error=np.zeros(len(val_data[:,0]))\n",
    "Lidar_elev=elev_error.copy()"
   ]
  },
  {
   "cell_type": "code",
   "execution_count": 7,
   "metadata": {},
   "outputs": [],
   "source": [
    "for gps_point_counter in range(0, len(val_data[:,0])-1):\n",
    "    validation_x_coord=val_data[gps_point_counter, 2]\n",
    "    validation_y_coord=val_data[gps_point_counter, 1]\n",
    "    \n",
    "    index_y=floor(validation_x_coord - dtm_array_metadata['ext_dict']['xMin'])\n",
    "    index_x=floor(dtm_array_metadata['ext_dict']['yMax']- validation_y_coord)\n",
    "    \n",
    "    Lidar_elev[gps_point_counter]=dtm_array[index_x, index_y]\n",
    "    elev_error[gps_point_counter]=val_data[gps_point_counter, 3]-Lidar_elev[gps_point_counter]\n",
    "    "
   ]
  },
  {
   "cell_type": "code",
   "execution_count": 8,
   "metadata": {},
   "outputs": [
    {
     "data": {
      "image/png": "[encoded data removed]",
      "text/plain": [
       "<Figure size 432x288 with 1 Axes>"
      ]
     },
     "metadata": {},
     "output_type": "display_data"
    }
   ],
   "source": [
    "fig, ax=plt.subplots()\n",
    "elevation_errors=ax.bar(range(len(elev_error)), elev_error, 0.5, color='b')"
   ]
  },
  {
   "cell_type": "code",
   "execution_count": 9,
   "metadata": {},
   "outputs": [
    {
     "data": {
      "text/plain": [
       "-0.057058050772723294"
      ]
     },
     "execution_count": 9,
     "metadata": {},
     "output_type": "execute_result"
    }
   ],
   "source": [
    "mean_error=np.mean(elev_error)\n",
    "mean_error"
   ]
  },
  {
   "cell_type": "code",
   "execution_count": 10,
   "metadata": {},
   "outputs": [
    {
     "data": {
      "text/plain": [
       "0.06728056156082494"
      ]
     },
     "execution_count": 10,
     "metadata": {},
     "output_type": "execute_result"
    }
   ],
   "source": [
    "std_error=np.std(elev_error)\n",
    "std_error"
   ]
  },
  {
   "cell_type": "code",
   "execution_count": 11,
   "metadata": {},
   "outputs": [
    {
     "name": "stdout",
     "output_type": "stream",
     "text": [
      "Variable             Type                          Data/Info\n",
      "------------------------------------------------------------\n",
      "IPython              module                        <module 'IPython' from '/<...>ges/IPython/__init__.py'>\n",
      "Lidar_elev           ndarray                       17: 17 elems, type `float64`, 136 bytes\n",
      "ax                   AxesSubplot                   AxesSubplot(0.125,0.125;0.775x0.755)\n",
      "dtm_array            ndarray                       14982x11197: 167753454 elems, type `float64`, 1342027632 bytes (1279.8572845458984 Mb)\n",
      "dtm_array_metadata   dict                          n=13\n",
      "dtm_filepath         str                           /Users/kdw223/Desktop/NEO<...>extra_uncert/SERC_DTM.tif\n",
      "elev_error           ndarray                       17: 17 elems, type `float64`, 136 bytes\n",
      "elevation_errors     BarContainer                  <BarContainer object of 17 artists>\n",
      "fig                  Figure                        Figure(432x288)\n",
      "floor                builtin_function_or_method    <built-in function floor>\n",
      "gdal                 module                        <module 'gdal' from '/Use<...>6/site-packages/gdal.py'>\n",
      "gps_point_counter    int                           15\n",
      "gps_val_filepath     str                           /Users/kdw223/Desktop/NEO<...>t/SERC_GPS_validation.csv\n",
      "h5py                 module                        <module 'h5py' from '/Use<...>ckages/h5py/__init__.py'>\n",
      "index_x              int                           11128\n",
      "index_y              int                           1834\n",
      "mean_error           float64                       -0.057058050772723294\n",
      "np                   module                        <module 'numpy' from '/Us<...>kages/numpy/__init__.py'>\n",
      "os                   module                        <module 'os' from '/Users<...>da3/lib/python3.6/os.py'>\n",
      "plt                  module                        <module 'matplotlib.pyplo<...>es/matplotlib/pyplot.py'>\n",
      "raster2array         function                      <function raster2array at 0x11c39f0d0>\n",
      "std_error            float64                       0.06728056156082494\n",
      "val_data             ndarray                       17x5: 85 elems, type `float64`, 680 bytes\n",
      "validation_x_coord   float64                       360650.123\n",
      "validation_y_coord   float64                       4302332.778\n"
     ]
    }
   ],
   "source": [
    "%whos"
   ]
  },
  {
   "cell_type": "code",
   "execution_count": 12,
   "metadata": {},
   "outputs": [
    {
     "name": "stdout",
     "output_type": "stream",
     "text": [
      "{'commit_hash': '7f10f7bb3',\n",
      " 'commit_source': 'installation',\n",
      " 'default_encoding': 'UTF-8',\n",
      " 'ipython_path': '/Users/kdw223/anaconda3/lib/python3.6/site-packages/IPython',\n",
      " 'ipython_version': '6.4.0',\n",
      " 'os_name': 'posix',\n",
      " 'platform': 'Darwin-15.6.0-x86_64-i386-64bit',\n",
      " 'sys_executable': '/Users/kdw223/anaconda3/bin/python',\n",
      " 'sys_platform': 'darwin',\n",
      " 'sys_version': '3.6.5 |Anaconda, Inc.| (default, Apr 26 2018, 08:42:37) \\n'\n",
      "                '[GCC 4.2.1 Compatible Clang 4.0.1 (tags/RELEASE_401/final)]'}\n"
     ]
    }
   ],
   "source": [
    "print(IPython.sys_info())"
   ]
  },
  {
   "cell_type": "code",
   "execution_count": null,
   "metadata": {},
   "outputs": [],
   "source": []
  }
 ],
 "metadata": {
  "kernelspec": {
   "display_name": "Python 3",
   "language": "python",
   "name": "python3"
  },
  "language_info": {
   "codemirror_mode": {
    "name": "ipython",
    "version": 3
   },
   "file_extension": ".py",
   "mimetype": "text/x-python",
   "name": "python",
   "nbconvert_exporter": "python",
   "pygments_lexer": "ipython3",
   "version": "3.6.5"
  }
 },
 "nbformat": 4,
 "nbformat_minor": 2
}
